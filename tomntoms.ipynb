{
 "cells": [
  {
   "cell_type": "code",
   "execution_count": 29,
   "metadata": {},
   "outputs": [],
   "source": [
    "import requests\n",
    "from bs4 import BeautifulSoup\n",
    "import pandas as pd\n",
    "import selenium\n",
    "from selenium import webdriver\n",
    "from selenium.webdriver.common.keys import Keys\n",
    "import time\n",
    "import os\n",
    "import requests\n",
    "import urllib.request\n",
    "from urllib.request import urlretrieve\n",
    "from urllib.request import urlopen\n",
    "import urllib.request\n",
    "from selenium.webdriver.common.by import By\n",
    "from bs4 import BeautifulSoup\n",
    "from tqdm import tqdm"
   ]
  },
  {
   "cell_type": "code",
   "execution_count": 83,
   "metadata": {},
   "outputs": [
    {
     "name": "stderr",
     "output_type": "stream",
     "text": [
      "C:\\Users\\parks\\AppData\\Local\\Temp\\ipykernel_49016\\787471576.py:8: DeprecationWarning: executable_path has been deprecated, please pass in a Service object\n",
      "  driver = webdriver.Chrome(chromedriver,chrome_options=options)\n",
      "C:\\Users\\parks\\AppData\\Local\\Temp\\ipykernel_49016\\787471576.py:8: DeprecationWarning: use options instead of chrome_options\n",
      "  driver = webdriver.Chrome(chromedriver,chrome_options=options)\n"
     ]
    }
   ],
   "source": [
    "options = webdriver.ChromeOptions()\n",
    "options.add_argument('headless')\n",
    "options.add_argument('window-size=1920x1080')\n",
    "options.add_argument(\"disable-gpu\")\n",
    "\n",
    "\n",
    "chromedriver = r'c:/Users/parks/bigdata_study/chromedriver.exe' #자신에 맞는 경로 지정\n",
    "driver = webdriver.Chrome(chromedriver,chrome_options=options)\n",
    "\n",
    "url = 'https://tomntoms.com/store/domestic_store_search.html'\n",
    "driver.get(url)\n",
    "keyword = '울산'\n",
    "path = \"\"\"/html/body/main/div[5]/div/section[1]/div/form/div[1]/div[1]/div[2]/div[1]/div/input[1]\"\"\"\n",
    "key = driver.find_element(By.XPATH,path)\n",
    "key.send_keys(keyword)\n",
    "key.send_keys(Keys.RETURN)\n",
    "\n",
    "stores = driver.find_elements(By.ID,\"search_result_list\")\n",
    "\n",
    "for store in stores:\n",
    "    st = store.find_elements(By.TAG_NAME,\"div\")\n",
    "\n",
    "ulsan = list(st[i].text for i in range(len(st)))\n"
   ]
  },
  {
   "cell_type": "code",
   "execution_count": 84,
   "metadata": {},
   "outputs": [
    {
     "data": {
      "text/plain": [
       "20"
      ]
     },
     "execution_count": 84,
     "metadata": {},
     "output_type": "execute_result"
    }
   ],
   "source": [
    "len(st)"
   ]
  },
  {
   "cell_type": "code",
   "execution_count": 89,
   "metadata": {},
   "outputs": [
    {
     "data": {
      "text/plain": [
       "['언양 휴게소(상) (285.45 km)\\n울산광역시 울주군 언양읍 경부고속도로 44\\nT.052-263-6153',\n",
       " '',\n",
       " '',\n",
       " '언양 휴게소(상) (285.45 km)\\n울산광역시 울주군 언양읍 경부고속도로 44\\nT.052-263-6153',\n",
       " '울산호계점 (296 km)\\n울산광역시 북구 호계로 258\\nT.052-282-7823',\n",
       " '',\n",
       " '',\n",
       " '울산호계점 (296 km)\\n울산광역시 북구 호계로 258\\nT.052-282-7823',\n",
       " '울산남외점 (300.65 km)\\n울산광역시 중구 남외2길 46\\nT.052-296-1883',\n",
       " '',\n",
       " '',\n",
       " '울산남외점 (300.65 km)\\n울산광역시 중구 남외2길 46\\nT.052-296-1883',\n",
       " '울산더테라스가든점 (301.91 km)\\n울산 남구 삼산로 231 (달동, 울산 센트럴 자이) 1층 탐앤탐스\\nT.052-266-0188',\n",
       " '',\n",
       " '',\n",
       " '울산더테라스가든점 (301.91 km)\\n울산 남구 삼산로 231 (달동, 울산 센트럴 자이) 1층 탐앤탐스\\nT.052-266-0188',\n",
       " '울산일산해수욕장점 (311.52 km)\\n울산 동구 해수욕장10길 22 (일산동) 탐앤탐스 2층\\nT.052-235-0900',\n",
       " '',\n",
       " '',\n",
       " '울산일산해수욕장점 (311.52 km)\\n울산 동구 해수욕장10길 22 (일산동) 탐앤탐스 2층\\nT.052-235-0900']"
      ]
     },
     "execution_count": 89,
     "metadata": {},
     "output_type": "execute_result"
    }
   ],
   "source": [
    "usl = list(st[i].text for i in range(len(st)))\n",
    "usl"
   ]
  },
  {
   "cell_type": "code",
   "execution_count": 92,
   "metadata": {},
   "outputs": [
    {
     "data": {
      "text/plain": [
       "'언양 휴게소(상) (285.45 km)\\n울산광역시 울주군 언양읍 경부고속도로 44\\nT.052-263-6153'"
      ]
     },
     "execution_count": 92,
     "metadata": {},
     "output_type": "execute_result"
    }
   ],
   "source": [
    "usl[0]"
   ]
  },
  {
   "cell_type": "code",
   "execution_count": 86,
   "metadata": {},
   "outputs": [
    {
     "data": {
      "text/plain": [
       "'언양 휴게소(상) (285.45 km)\\n울산광역시 울주군 언양읍 경부고속도로 44\\nT.052-263-6153'"
      ]
     },
     "execution_count": 86,
     "metadata": {},
     "output_type": "execute_result"
    }
   ],
   "source": [
    "st[0].text"
   ]
  },
  {
   "cell_type": "code",
   "execution_count": null,
   "metadata": {},
   "outputs": [],
   "source": []
  },
  {
   "cell_type": "code",
   "execution_count": null,
   "metadata": {},
   "outputs": [],
   "source": []
  },
  {
   "cell_type": "code",
   "execution_count": null,
   "metadata": {},
   "outputs": [],
   "source": []
  },
  {
   "cell_type": "code",
   "execution_count": null,
   "metadata": {},
   "outputs": [],
   "source": []
  },
  {
   "cell_type": "code",
   "execution_count": null,
   "metadata": {},
   "outputs": [],
   "source": []
  },
  {
   "cell_type": "code",
   "execution_count": null,
   "metadata": {},
   "outputs": [],
   "source": []
  },
  {
   "cell_type": "code",
   "execution_count": null,
   "metadata": {},
   "outputs": [],
   "source": []
  }
 ],
 "metadata": {
  "kernelspec": {
   "display_name": "Python 3.8.12 ('base')",
   "language": "python",
   "name": "python3"
  },
  "language_info": {
   "codemirror_mode": {
    "name": "ipython",
    "version": 3
   },
   "file_extension": ".py",
   "mimetype": "text/x-python",
   "name": "python",
   "nbconvert_exporter": "python",
   "pygments_lexer": "ipython3",
   "version": "3.8.12"
  },
  "orig_nbformat": 4,
  "vscode": {
   "interpreter": {
    "hash": "57b4c9edc423900f2bef76019b935046b61a0498a93c5c1be06f4cfbd03a15c6"
   }
  }
 },
 "nbformat": 4,
 "nbformat_minor": 2
}
