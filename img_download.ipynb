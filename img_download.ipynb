{
 "cells": [
  {
   "cell_type": "code",
   "execution_count": 2,
   "id": "3db7da8e",
   "metadata": {
    "scrolled": true
   },
   "outputs": [
    {
     "data": {
      "text/plain": [
       "'C:\\\\Users\\\\parks\\\\빅데이터(김대환)'"
      ]
     },
     "execution_count": 2,
     "metadata": {},
     "output_type": "execute_result"
    }
   ],
   "source": [
    "import os\n",
    "os.getcwd()"
   ]
  },
  {
   "cell_type": "code",
   "execution_count": 13,
   "id": "b09844a9",
   "metadata": {},
   "outputs": [],
   "source": [
    "import selenium\n",
    "from selenium import webdriver\n",
    "from selenium.webdriver.common.keys import Keys\n",
    "import time\n",
    "import os\n",
    "import requests\n",
    "import urllib.request\n",
    "from bs4 import BeautifulSoup\n",
    "import os\n",
    "from urllib.request import urlretrieve\n",
    "from urllib.request import urlopen"
   ]
  },
  {
   "cell_type": "code",
   "execution_count": 19,
   "id": "a975fd2f",
   "metadata": {},
   "outputs": [
    {
     "ename": "TypeError",
     "evalue": "urlopen() got an unexpected keyword argument 'header'",
     "output_type": "error",
     "traceback": [
      "\u001b[1;31m---------------------------------------------------------------------------\u001b[0m",
      "\u001b[1;31mTypeError\u001b[0m                                 Traceback (most recent call last)",
      "\u001b[1;32mc:\\Users\\parks\\빅데이터(김대환)\\Untitled.ipynb 셀 3\u001b[0m in \u001b[0;36m<cell line: 1>\u001b[1;34m()\u001b[0m\n\u001b[1;32m----> <a href='vscode-notebook-cell:/c%3A/Users/parks/%EB%B9%85%EB%8D%B0%EC%9D%B4%ED%84%B0%28%EA%B9%80%EB%8C%80%ED%99%98%29/Untitled.ipynb#X32sZmlsZQ%3D%3D?line=0'>1</a>\u001b[0m html \u001b[39m=\u001b[39m urlopen(\u001b[39m'\u001b[39;49m\u001b[39mhttps://www.google.com/search?q=\u001b[39;49m\u001b[39m%E\u001b[39;49;00m\u001b[39mA\u001b[39;49m\u001b[39m%\u001b[39;49m\u001b[39mB0\u001b[39;49m\u001b[39m%80%\u001b[39;49;00m\u001b[39mEC\u001b[39;49m\u001b[39m%\u001b[39;49m\u001b[39m9D\u001b[39;49m\u001b[39m%84%\u001b[39;49;00m\u001b[39mEC\u001b[39;49m\u001b[39m%\u001b[39;49m\u001b[39m9D\u001b[39;49m\u001b[39m%\u001b[39;49m\u001b[39mB4\u001b[39;49m\u001b[39m%E\u001b[39;49;00m\u001b[39mB\u001b[39;49m\u001b[39m%\u001b[39;49m\u001b[39mAF\u001b[39;49m\u001b[39m%\u001b[39;49m\u001b[39mB8\u001b[39;49m\u001b[39m%E\u001b[39;49;00m\u001b[39mC\u001b[39;49m\u001b[39m%\u001b[39;49m\u001b[39mA7\u001b[39;49m\u001b[39m%\u001b[39;49m\u001b[39m80&sxsrf=ALiCzsaC9LSgiGnkMj18onSPiIL8I6cLdQ:1664937307503&source=lnms&tbm=isch&sa=X&ved=2ahUKEwizx6Xmhsj6AhWJ7GEKHVzNB1IQ_AUoAXoECAEQAw&biw=1280&bih=616&dpr=1.5\u001b[39;49m\u001b[39m'\u001b[39;49m,header\u001b[39m=\u001b[39;49m{\u001b[39m'\u001b[39;49m\u001b[39mUser-Agent\u001b[39;49m\u001b[39m'\u001b[39;49m:\u001b[39m'\u001b[39;49m\u001b[39mMozila/5.0\u001b[39;49m\u001b[39m'\u001b[39;49m})\n\u001b[0;32m      <a href='vscode-notebook-cell:/c%3A/Users/parks/%EB%B9%85%EB%8D%B0%EC%9D%B4%ED%84%B0%28%EA%B9%80%EB%8C%80%ED%99%98%29/Untitled.ipynb#X32sZmlsZQ%3D%3D?line=1'>2</a>\u001b[0m bs \u001b[39m=\u001b[39m BeautifulSoup(html, \u001b[39m'\u001b[39m\u001b[39mhtml.parser\u001b[39m\u001b[39m'\u001b[39m)\n\u001b[0;32m      <a href='vscode-notebook-cell:/c%3A/Users/parks/%EB%B9%85%EB%8D%B0%EC%9D%B4%ED%84%B0%28%EA%B9%80%EB%8C%80%ED%99%98%29/Untitled.ipynb#X32sZmlsZQ%3D%3D?line=2'>3</a>\u001b[0m bs\u001b[39m.\u001b[39mread()\n",
      "\u001b[1;31mTypeError\u001b[0m: urlopen() got an unexpected keyword argument 'header'"
     ]
    }
   ],
   "source": []
  },
  {
   "cell_type": "code",
   "execution_count": null,
   "id": "921370b7",
   "metadata": {},
   "outputs": [],
   "source": []
  },
  {
   "cell_type": "code",
   "execution_count": null,
   "id": "284d33b5",
   "metadata": {},
   "outputs": [],
   "source": []
  },
  {
   "cell_type": "code",
   "execution_count": null,
   "id": "7d213ab1",
   "metadata": {},
   "outputs": [],
   "source": []
  },
  {
   "cell_type": "code",
   "execution_count": 29,
   "id": "091e6aaa",
   "metadata": {},
   "outputs": [
    {
     "data": {
      "text/plain": [
       "'jWA&s'"
      ]
     },
     "execution_count": 29,
     "metadata": {},
     "output_type": "execute_result"
    }
   ],
   "source": [
    "soup.select('img')[2]['src'][-5:]"
   ]
  },
  {
   "cell_type": "code",
   "execution_count": 30,
   "id": "9e3d03e5",
   "metadata": {},
   "outputs": [
    {
     "name": "stdout",
     "output_type": "stream",
     "text": [
      "a0M&s.jpg\n",
      "jWA&s.jpg\n",
      "p3w&s.jpg\n",
      "9CQ&s.jpg\n",
      "b6M&s.jpg\n",
      "ZbM&s.jpg\n",
      "MUA&s.jpg\n",
      "iVQ&s.jpg\n",
      "Zzg&s.jpg\n",
      "PzI&s.jpg\n",
      "1pQ&s.jpg\n",
      "Ays&s.jpg\n",
      "odQ&s.jpg\n",
      "MpA&s.jpg\n",
      "VbA&s.jpg\n",
      "kug&s.jpg\n",
      "r00&s.jpg\n",
      "r6g&s.jpg\n",
      "stw&s.jpg\n",
      "obQ&s.jpg\n"
     ]
    }
   ],
   "source": [
    "ulr ='https://www.google.com/search?q=%EA%B0%80%EC%9D%84%EC%9D%B4%EB%AF%B8%EC%A7%80&sxsrf=ALiCzsaC9LSgiGnkMj18onSPiIL8I6cLdQ:1664937307503&source=lnms&tbm=isch&sa=X&ved=2ahUKEwizx6Xmhsj6AhWJ7GEKHVzNB1IQ_AUoAXoECAEQAw&biw=1280&bih=616&dpr=1.5'\n",
    "html = requests.get(url)\n",
    "soup = BeautifulSoup(html.content,'html.parser')\n",
    "for i in soup.select('img')[1:]:\n",
    "    filename = i['src'][-5:] +'.'+'jpg'\n",
    "    print(filename)\n",
    "    urlretrieve(i['src'],filename)\n"
   ]
  },
  {
   "cell_type": "code",
   "execution_count": 14,
   "id": "fd5ed848",
   "metadata": {},
   "outputs": [],
   "source": [
    "def createFolder(directory):\n",
    "    try:\n",
    "        if not os.path.exists(directory):\n",
    "            os.makedirs(directory)\n",
    "    except OSError:\n",
    "        print ('Error: Creating directory. ' +  directory)"
   ]
  },
  {
   "cell_type": "code",
   "execution_count": null,
   "id": "33c7df4e",
   "metadata": {},
   "outputs": [],
   "source": [
    "#islrg > div.islrc > div:nth-child(2) > a.wXeWr.islib.nfEiy > div.bRMDJf.islir > img"
   ]
  },
  {
   "cell_type": "code",
   "execution_count": 16,
   "id": "e2196aac",
   "metadata": {
    "scrolled": true
   },
   "outputs": [
    {
     "name": "stderr",
     "output_type": "stream",
     "text": [
      "C:\\Users\\parks\\AppData\\Local\\Temp\\ipykernel_44264\\4000800758.py:3: DeprecationWarning: executable_path has been deprecated, please pass in a Service object\n",
      "  driver = webdriver.Chrome(chromedriver)\n"
     ]
    },
    {
     "ename": "AttributeError",
     "evalue": "'WebDriver' object has no attribute 'find_element_by_xpath'",
     "output_type": "error",
     "traceback": [
      "\u001b[1;31m---------------------------------------------------------------------------\u001b[0m",
      "\u001b[1;31mAttributeError\u001b[0m                            Traceback (most recent call last)",
      "Input \u001b[1;32mIn [16]\u001b[0m, in \u001b[0;36m<cell line: 5>\u001b[1;34m()\u001b[0m\n\u001b[0;32m      3\u001b[0m driver \u001b[38;5;241m=\u001b[39m webdriver\u001b[38;5;241m.\u001b[39mChrome(chromedriver)\n\u001b[0;32m      4\u001b[0m driver\u001b[38;5;241m.\u001b[39mimplicitly_wait(\u001b[38;5;241m3\u001b[39m)\n\u001b[1;32m----> 5\u001b[0m \u001b[43mdriver\u001b[49m\u001b[38;5;241;43m.\u001b[39;49m\u001b[43mfind_element_by_xpath\u001b[49m(\u001b[38;5;124m'\u001b[39m\u001b[38;5;124m//*[@id=\u001b[39m\u001b[38;5;124m\"\u001b[39m\u001b[38;5;124mislrg\u001b[39m\u001b[38;5;124m\"\u001b[39m\u001b[38;5;124m]/div[1]/div[1]/a[1]/div[1]/img\u001b[39m\u001b[38;5;124m'\u001b[39m)\n",
      "\u001b[1;31mAttributeError\u001b[0m: 'WebDriver' object has no attribute 'find_element_by_xpath'"
     ]
    }
   ],
   "source": [
    "createFolder('C:\\\\Users\\\\parks\\\\빅데이터(김대환)\\\\가을_img_download')\n",
    "chromedriver =  'C:\\\\Users\\\\parks\\\\빅데이터(김대환)\\\\chromedriver.exe'\n",
    "driver = webdriver.Chrome(chromedriver)\n",
    "driver.implicitly_wait(3)\n",
    "driver.find_element_by_xpath('//*[@id=\"islrg\"]/div[1]/div[1]/a[1]/div[1]/img')"
   ]
  },
  {
   "cell_type": "code",
   "execution_count": null,
   "id": "7e5a592f",
   "metadata": {},
   "outputs": [],
   "source": [
    "//*[@id=\"islrg\"]/div[1]/div[1]/a[1]/div[1]/img"
   ]
  },
  {
   "cell_type": "code",
   "execution_count": 18,
   "id": "f7a345d6",
   "metadata": {},
   "outputs": [
    {
     "ename": "AttributeError",
     "evalue": "'WebDriver' object has no attribute 'find_elements_by_css_selector'",
     "output_type": "error",
     "traceback": [
      "\u001b[1;31m---------------------------------------------------------------------------\u001b[0m",
      "\u001b[1;31mAttributeError\u001b[0m                            Traceback (most recent call last)",
      "Input \u001b[1;32mIn [18]\u001b[0m, in \u001b[0;36m<cell line: 1>\u001b[1;34m()\u001b[0m\n\u001b[1;32m----> 1\u001b[0m \u001b[43mdriver\u001b[49m\u001b[38;5;241;43m.\u001b[39;49m\u001b[43mfind_elements_by_css_selector\u001b[49m(\u001b[38;5;124m\"\u001b[39m\u001b[38;5;124m.r5xl4\u001b[39m\u001b[38;5;124m\"\u001b[39m)\n",
      "\u001b[1;31mAttributeError\u001b[0m: 'WebDriver' object has no attribute 'find_elements_by_css_selector'"
     ]
    }
   ],
   "source": [
    "driver.find_elements_by_css_selector(\".r5xl4\")"
   ]
  },
  {
   "cell_type": "code",
   "execution_count": 20,
   "id": "cfcf803b",
   "metadata": {},
   "outputs": [
    {
     "data": {
      "text/plain": [
       "'4.3.0'"
      ]
     },
     "execution_count": 20,
     "metadata": {},
     "output_type": "execute_result"
    }
   ],
   "source": [
    "selenium.__version__"
   ]
  },
  {
   "cell_type": "code",
   "execution_count": null,
   "id": "75caf759",
   "metadata": {},
   "outputs": [],
   "source": [
    "!pip uninstall selenium\n",
    "!pip install selenium==4.2.0"
   ]
  },
  {
   "cell_type": "code",
   "execution_count": 19,
   "id": "96ec715c",
   "metadata": {},
   "outputs": [
    {
     "name": "stderr",
     "output_type": "stream",
     "text": [
      "C:\\Users\\parks\\AppData\\Local\\Temp\\ipykernel_44264\\2244606867.py:10: DeprecationWarning: executable_path has been deprecated, please pass in a Service object\n",
      "  driver = webdriver.Chrome('C:\\\\Users\\\\parks\\\\빅데이터(김대환)\\\\chromedriver.exe') # 여기에 크롬드라이브 다운로드 받은 경로를 입력한다.\n"
     ]
    },
    {
     "ename": "AttributeError",
     "evalue": "'WebDriver' object has no attribute 'find_element_by_name'",
     "output_type": "error",
     "traceback": [
      "\u001b[1;31m---------------------------------------------------------------------------\u001b[0m",
      "\u001b[1;31mAttributeError\u001b[0m                            Traceback (most recent call last)",
      "Input \u001b[1;32mIn [19]\u001b[0m, in \u001b[0;36m<cell line: 12>\u001b[1;34m()\u001b[0m\n\u001b[0;32m     10\u001b[0m driver \u001b[38;5;241m=\u001b[39m webdriver\u001b[38;5;241m.\u001b[39mChrome(\u001b[38;5;124m'\u001b[39m\u001b[38;5;124mC:\u001b[39m\u001b[38;5;130;01m\\\\\u001b[39;00m\u001b[38;5;124mUsers\u001b[39m\u001b[38;5;130;01m\\\\\u001b[39;00m\u001b[38;5;124mparks\u001b[39m\u001b[38;5;130;01m\\\\\u001b[39;00m\u001b[38;5;124m빅데이터(김대환)\u001b[39m\u001b[38;5;130;01m\\\\\u001b[39;00m\u001b[38;5;124mchromedriver.exe\u001b[39m\u001b[38;5;124m'\u001b[39m) \u001b[38;5;66;03m# 여기에 크롬드라이브 다운로드 받은 경로를 입력한다.\u001b[39;00m\n\u001b[0;32m     11\u001b[0m driver\u001b[38;5;241m.\u001b[39mget(\u001b[38;5;124m\"\u001b[39m\u001b[38;5;124mhttps://www.google.co.kr/imghp?hl=ko&ogbl\u001b[39m\u001b[38;5;124m\"\u001b[39m)\n\u001b[1;32m---> 12\u001b[0m elem \u001b[38;5;241m=\u001b[39m \u001b[43mdriver\u001b[49m\u001b[38;5;241;43m.\u001b[39;49m\u001b[43mfind_element_by_name\u001b[49m(\u001b[38;5;124m\"\u001b[39m\u001b[38;5;124mq\u001b[39m\u001b[38;5;124m\"\u001b[39m)\n\u001b[0;32m     13\u001b[0m elem\u001b[38;5;241m.\u001b[39msend_keys(\u001b[38;5;124m\"\u001b[39m\u001b[38;5;124m가을 이미지\u001b[39m\u001b[38;5;124m\"\u001b[39m)\n\u001b[0;32m     14\u001b[0m elem\u001b[38;5;241m.\u001b[39msend_keys(Keys\u001b[38;5;241m.\u001b[39mRETURN)\n",
      "\u001b[1;31mAttributeError\u001b[0m: 'WebDriver' object has no attribute 'find_element_by_name'"
     ]
    }
   ],
   "source": [
    "from selenium import webdriver\n",
    "from urllib.request import urlopen\n",
    "from bs4 import BeautifulSoup as bs\n",
    "from urllib.parse import quote_plus\n",
    "from selenium.webdriver.common.keys import Keys\n",
    "import time\n",
    "import urllib.request\n",
    "\n",
    "\n",
    "driver = webdriver.Chrome('C:\\\\Users\\\\parks\\\\빅데이터(김대환)\\\\chromedriver.exe') # 여기에 크롬드라이브 다운로드 받은 경로를 입력한다.\n",
    "driver.get(\"https://www.google.co.kr/imghp?hl=ko&ogbl\")\n",
    "elem = driver.find_element_by_name(\"q\")\n",
    "elem.send_keys(\"가을 이미지\")\n",
    "elem.send_keys(Keys.RETURN)\n",
    " \n",
    "SCROLL_PAUSE_TIME = 1\n",
    " \n",
    "last_height = driver.execute_script(\"return document.body.scrollHeight\")\n",
    " \n",
    "while True:\n",
    "    driver.execute_script(\"window.scrollTo(0, document.body.scrollHeight);\")\n",
    " \n",
    "    time.sleep(SCROLL_PAUSE_TIME)\n",
    " \n",
    "    new_height = driver.execute_script(\"return document.body.scrollHeight\")\n",
    "    if new_height == last_height:\n",
    "        try:\n",
    "            driver.find_element_by_css_selector(\".mye4qd\").click()\n",
    "        except:\n",
    "            break\n",
    "    last_height = new_height\n",
    " \n",
    "images = driver.find_elements_by_css_selector(\".rg_i.Q4LuWd\")\n",
    "count = 1\n",
    "for image in images:\n",
    "    try: \n",
    "        image.click()\n",
    "        time.sleep(2)\n",
    "        imgUrl = driver.find_element_by_xpath('/html/body/div[2]/c-wiz/div[3]/div[2]/div[3]/div/div/div[3]/div[2]/c-wiz/div/div[1]/div[1]/div/div[2]/a/img').get_attribute(\"src\")\n",
    "        urllib.request.urlretrieve(imgUrl, str(count) + \".jpg\")\n",
    "        count = count + 1\n",
    "    except:\n",
    "        pass\n",
    " \n",
    "driver.close()"
   ]
  },
  {
   "cell_type": "code",
   "execution_count": null,
   "id": "bda301ba",
   "metadata": {},
   "outputs": [],
   "source": []
  },
  {
   "cell_type": "code",
   "execution_count": null,
   "id": "acbdb95c",
   "metadata": {},
   "outputs": [],
   "source": []
  },
  {
   "cell_type": "code",
   "execution_count": 99,
   "id": "9989c95a",
   "metadata": {},
   "outputs": [],
   "source": [
    "from selenium import webdriver \n",
    "from selenium.webdriver.common.keys import Keys\n",
    "import time\n",
    "import os\n",
    "import urllib.request\n",
    "from selenium.webdriver.common.by import By\n",
    "from bs4 import BeautifulSoup\n",
    "from tqdm import tqdm"
   ]
  },
  {
   "cell_type": "code",
   "execution_count": 4,
   "id": "ab5440a2",
   "metadata": {},
   "outputs": [],
   "source": [
    "def createFolder(directory):\n",
    "    try:\n",
    "        if not os.path.exists(directory):\n",
    "            os.makedirs(directory)\n",
    "    except OSError:\n",
    "        print ('Error: Creating directory. ' +  directory)"
   ]
  },
  {
   "cell_type": "code",
   "execution_count": 73,
   "id": "14106893",
   "metadata": {},
   "outputs": [
    {
     "name": "stderr",
     "output_type": "stream",
     "text": [
      "C:\\Users\\parks\\AppData\\Local\\Temp\\ipykernel_6784\\3571458945.py:5: DeprecationWarning: executable_path has been deprecated, please pass in a Service object\n",
      "  driver = webdriver.Chrome(chromedriver)\n"
     ]
    },
    {
     "name": "stdout",
     "output_type": "stream",
     "text": [
      "춘식이 검색\n",
      "춘식이 스크롤 중 .............\n"
     ]
    },
    {
     "ename": "TypeError",
     "evalue": "'in <string>' requires string as left operand, not Tag",
     "output_type": "error",
     "traceback": [
      "\u001b[1;31m---------------------------------------------------------------------------\u001b[0m",
      "\u001b[1;31mTypeError\u001b[0m                                 Traceback (most recent call last)",
      "\u001b[1;32mc:\\Users\\parks\\빅데이터(김대환)\\Untitled.ipynb 셀 21\u001b[0m in \u001b[0;36m<cell line: 29>\u001b[1;34m()\u001b[0m\n\u001b[0;32m     <a href='vscode-notebook-cell:/c%3A/Users/parks/%EB%B9%85%EB%8D%B0%EC%9D%B4%ED%84%B0%28%EA%B9%80%EB%8C%80%ED%99%98%29/Untitled.ipynb#X26sZmlsZQ%3D%3D?line=27'>28</a>\u001b[0m links\u001b[39m=\u001b[39m[]\n\u001b[0;32m     <a href='vscode-notebook-cell:/c%3A/Users/parks/%EB%B9%85%EB%8D%B0%EC%9D%B4%ED%84%B0%28%EA%B9%80%EB%8C%80%ED%99%98%29/Untitled.ipynb#X26sZmlsZQ%3D%3D?line=28'>29</a>\u001b[0m \u001b[39mfor\u001b[39;00m image \u001b[39min\u001b[39;00m images:\n\u001b[1;32m---> <a href='vscode-notebook-cell:/c%3A/Users/parks/%EB%B9%85%EB%8D%B0%EC%9D%B4%ED%84%B0%28%EA%B9%80%EB%8C%80%ED%99%98%29/Untitled.ipynb#X26sZmlsZQ%3D%3D?line=29'>30</a>\u001b[0m     \u001b[39mif\u001b[39;00m (image\u001b[39m.\u001b[39;49mfind(\u001b[39m'\u001b[39;49m\u001b[39mimg\u001b[39;49m\u001b[39m'\u001b[39;49m) \u001b[39min\u001b[39;49;00m \u001b[39m'\u001b[39;49m\u001b[39msrc\u001b[39;49m\u001b[39m'\u001b[39;49m):\n\u001b[0;32m     <a href='vscode-notebook-cell:/c%3A/Users/parks/%EB%B9%85%EB%8D%B0%EC%9D%B4%ED%84%B0%28%EA%B9%80%EB%8C%80%ED%99%98%29/Untitled.ipynb#X26sZmlsZQ%3D%3D?line=30'>31</a>\u001b[0m         \u001b[39mprint\u001b[39m(\u001b[39m'\u001b[39m\u001b[39msrc\u001b[39m\u001b[39m'\u001b[39m)\n\u001b[0;32m     <a href='vscode-notebook-cell:/c%3A/Users/parks/%EB%B9%85%EB%8D%B0%EC%9D%B4%ED%84%B0%28%EA%B9%80%EB%8C%80%ED%99%98%29/Untitled.ipynb#X26sZmlsZQ%3D%3D?line=31'>32</a>\u001b[0m     \u001b[39melse\u001b[39;00m:\n",
      "\u001b[1;31mTypeError\u001b[0m: 'in <string>' requires string as left operand, not Tag"
     ]
    }
   ],
   "source": [
    "keyword='춘식이'\n",
    "createFolder('./'+keyword+'_img_download')\n",
    "\n",
    "chromedriver = r'C:\\Users\\parks\\빅데이터(김대환)\\chromedriver.exe'\n",
    "driver = webdriver.Chrome(chromedriver)\n",
    "driver.implicitly_wait(3)\n",
    "\n",
    "print(keyword, '검색')\n",
    "driver.get('https://www.google.co.kr/imghp?hl=ko')\n",
    "path = \"\"\"/html/body/div[1]/div[3]/form/div[1]/div[1]/div[1]/div/div[2]/input\"\"\"\n",
    "Keyword=driver.find_element(By.XPATH,path)\n",
    "Keyword.send_keys(keyword)\n",
    "Keyword.send_keys(Keys.RETURN)\n",
    "# path = \"\"\"/html/body/div[1]/div[3]/form/div[1]/div[1]/div[1]/button\"\"\"\n",
    "# driver.find_element(By.XPATH,path).click()\n",
    "\n",
    "print(keyword+' 스크롤 중 .............')\n",
    "elem = driver.find_element(By.XPATH, '/html/body')\n",
    "\n",
    "for i in range(10): #10번 정도 스크롤 다운\n",
    "    elem.send_keys(Keys.PAGE_DOWN)\n",
    "    time.sleep(0.1)\n",
    "\n",
    "page = driver.page_source\n",
    "soup = BeautifulSoup(page, \"html.parser\")\n",
    "images = soup.find_all(\"div\", {'class':'bRMDJf islir'})\n",
    "#print(list(images[i].find('img')['src'] for i in range(len(images))))\n",
    "links=[]\n",
    "for image in images:\n",
    "    if (image.find('img') in 'src'):\n",
    "        print('src')\n",
    "    else:\n",
    "        print('data-src')\n",
    "\n",
    "# images = driver.find_element(By.CLASS_NAME,'rg_i.Q4LuWd')\n",
    "# print(images)\n",
    "# for image in images:\n",
    "#     if image.get_attribute('src')!=None:\n",
    "#         links.append(image.get_attribute('src'))\n",
    "\n",
    "# print(keyword+' 찾은 이미지 개수:',len(links))\n",
    "# time.sleep(2)"
   ]
  },
  {
   "cell_type": "code",
   "execution_count": 101,
   "id": "de2a2f6a",
   "metadata": {},
   "outputs": [
    {
     "name": "stderr",
     "output_type": "stream",
     "text": [
      "C:\\Users\\parks\\AppData\\Local\\Temp\\ipykernel_6784\\2360929080.py:5: DeprecationWarning: executable_path has been deprecated, please pass in a Service object\n",
      "  driver = webdriver.Chrome(chromedriver)\n"
     ]
    },
    {
     "name": "stdout",
     "output_type": "stream",
     "text": [
      "춘식이 검색\n",
      "춘식이 스크롤 중 .............\n",
      "춘식이 찾은 이미지 개수: 352\n",
      "1/352 춘식이 다운로드 중....... Download time : 0.003 초\n",
      "춘식이--다운 완료--\n",
      "2/352 춘식이 다운로드 중....... Download time : 0.003 초\n",
      "춘식이--다운 완료--\n",
      "3/352 춘식이 다운로드 중....... Download time : 0.003 초\n",
      "춘식이--다운 완료--\n",
      "4/352 춘식이 다운로드 중....... Download time : 0.004 초\n",
      "춘식이--다운 완료--\n",
      "5/352 춘식이 다운로드 중....... Download time : 0.003 초\n",
      "춘식이--다운 완료--\n",
      "6/352 춘식이 다운로드 중....... Download time : 0.016 초\n",
      "춘식이--다운 완료--\n",
      "7/352 춘식이 다운로드 중....... Download time : 0.003 초\n",
      "춘식이--다운 완료--\n",
      "8/352 춘식이 다운로드 중....... Download time : 0.003 초\n",
      "춘식이--다운 완료--\n",
      "9/352 춘식이 다운로드 중....... Download time : 0.005 초\n",
      "춘식이--다운 완료--\n",
      "10/352 춘식이 다운로드 중....... Download time : 0.003 초\n",
      "춘식이--다운 완료--\n"
     ]
    }
   ],
   "source": [
    "def createFolder(directory):\n",
    "    try:\n",
    "        if not os.path.exists(directory):\n",
    "            os.makedirs(directory)\n",
    "    except OSError:\n",
    "        print ('Error: Creating directory. ' +  directory)\n",
    "\n",
    "        \n",
    "\n",
    "keyword='춘식이' #다운 받을 keyword 입력\n",
    "createFolder('./'+keyword+'_img_download')\n",
    "\n",
    "chromedriver = r'C:\\Users\\parks\\빅데이터(김대환)\\chromedriver.exe' #자신에 맞는 경로 지정\n",
    "driver = webdriver.Chrome(chromedriver)\n",
    "driver.implicitly_wait(3)\n",
    "\n",
    "print(keyword, '검색')\n",
    "driver.get('https://www.google.co.kr/imghp?hl=ko')\n",
    "path = \"\"\"/html/body/div[1]/div[3]/form/div[1]/div[1]/div[1]/div/div[2]/input\"\"\"\n",
    "Keyword=driver.find_element(By.XPATH,path)\n",
    "Keyword.send_keys(keyword)\n",
    "Keyword.send_keys(Keys.RETURN)\n",
    "# path = \"\"\"/html/body/div[1]/div[3]/form/div[1]/div[1]/div[1]/button\"\"\"\n",
    "# driver.find_element(By.XPATH,path).click()\n",
    "\n",
    "print(keyword+' 스크롤 중 .............')\n",
    "elem = driver.find_element(By.XPATH, '/html/body')\n",
    "\n",
    "for i in range(8): #10번 정도 스크롤 다운\n",
    "    elem.send_keys(Keys.PAGE_DOWN)\n",
    "    time.sleep(0.1)\n",
    "\n",
    "#images = driver.find_elements(By.CLASS_NAME,\"rg_i Q4LuWd\")\n",
    "images = driver.find_elements(By.CSS_SELECTOR, \".rg_i.Q4LuWd\")\n",
    "images\n",
    "\n",
    "for image in images:\n",
    "    if image.get_attribute('src')!=None:\n",
    "        links.append(image.get_attribute('src'))\n",
    "\n",
    "print(keyword+' 찾은 이미지 개수:',len(links))\n",
    "time.sleep(2)\n",
    "\n",
    "for k,i in (enumerate(links[:10])): # 10개 정도로 다운받아지는 지 test함. \n",
    "    url = i\n",
    "    start = time.time()\n",
    "    urllib.request.urlretrieve(url,\"./\"+keyword+\"_img_download/\"+keyword+\"_\"+str(k)+\".jpg\")\n",
    "    print(str(k+1)+'/'+str(len(links))+' '+keyword+' 다운로드 중....... Download time : '+str(time.time() - start)[:5]+' 초')\n",
    "    print(keyword+'--다운 완료--')\n",
    "\n",
    "driver.close()\n"
   ]
  },
  {
   "cell_type": "code",
   "execution_count": 94,
   "id": "d38819a1",
   "metadata": {},
   "outputs": [
    {
     "data": {
      "text/plain": [
       "[]"
      ]
     },
     "execution_count": 94,
     "metadata": {},
     "output_type": "execute_result"
    }
   ],
   "source": [
    "images"
   ]
  },
  {
   "cell_type": "code",
   "execution_count": 81,
   "id": "7a1a161f",
   "metadata": {},
   "outputs": [
    {
     "data": {
      "text/plain": [
       "False"
      ]
     },
     "execution_count": 81,
     "metadata": {},
     "output_type": "execute_result"
    }
   ],
   "source": [
    "'src' in images[0].find('img')"
   ]
  },
  {
   "cell_type": "code",
   "execution_count": 71,
   "id": "7f2835f0",
   "metadata": {},
   "outputs": [
    {
     "ename": "TypeError",
     "evalue": "'in <string>' requires string as left operand, not Tag",
     "output_type": "error",
     "traceback": [
      "\u001b[1;31m---------------------------------------------------------------------------\u001b[0m",
      "\u001b[1;31mTypeError\u001b[0m                                 Traceback (most recent call last)",
      "\u001b[1;32mc:\\Users\\parks\\빅데이터(김대환)\\Untitled.ipynb 셀 22\u001b[0m in \u001b[0;36m<cell line: 1>\u001b[1;34m()\u001b[0m\n\u001b[1;32m----> <a href='vscode-notebook-cell:/c%3A/Users/parks/%EB%B9%85%EB%8D%B0%EC%9D%B4%ED%84%B0%28%EA%B9%80%EB%8C%80%ED%99%98%29/Untitled.ipynb#X34sZmlsZQ%3D%3D?line=0'>1</a>\u001b[0m \u001b[39mlist\u001b[39;49m((images[i]\u001b[39m.\u001b[39;49mfind(\u001b[39m'\u001b[39;49m\u001b[39mimg\u001b[39;49m\u001b[39m'\u001b[39;49m)[\u001b[39m'\u001b[39;49m\u001b[39msrc\u001b[39;49m\u001b[39m'\u001b[39;49m]) \u001b[39mor\u001b[39;49;00m (images[i]\u001b[39m.\u001b[39;49mfind(\u001b[39m'\u001b[39;49m\u001b[39mimg\u001b[39;49m\u001b[39m'\u001b[39;49m)[\u001b[39m'\u001b[39;49m\u001b[39mdata-src\u001b[39;49m\u001b[39m'\u001b[39;49m]) \u001b[39mfor\u001b[39;49;00m i \u001b[39min\u001b[39;49;00m \u001b[39mrange\u001b[39;49m(\u001b[39mlen\u001b[39;49m(images)) \u001b[39mif\u001b[39;49;00m images[i]\u001b[39m.\u001b[39;49mfind(\u001b[39m'\u001b[39;49m\u001b[39mimg\u001b[39;49m\u001b[39m'\u001b[39;49m) \u001b[39mnot\u001b[39;49;00m \u001b[39min\u001b[39;49;00m \u001b[39m'\u001b[39;49m\u001b[39msrc\u001b[39;49m\u001b[39m'\u001b[39;49m)\n",
      "\u001b[1;32mc:\\Users\\parks\\빅데이터(김대환)\\Untitled.ipynb 셀 22\u001b[0m in \u001b[0;36m<genexpr>\u001b[1;34m(.0)\u001b[0m\n\u001b[1;32m----> <a href='vscode-notebook-cell:/c%3A/Users/parks/%EB%B9%85%EB%8D%B0%EC%9D%B4%ED%84%B0%28%EA%B9%80%EB%8C%80%ED%99%98%29/Untitled.ipynb#X34sZmlsZQ%3D%3D?line=0'>1</a>\u001b[0m \u001b[39mlist\u001b[39m((images[i]\u001b[39m.\u001b[39mfind(\u001b[39m'\u001b[39m\u001b[39mimg\u001b[39m\u001b[39m'\u001b[39m)[\u001b[39m'\u001b[39m\u001b[39msrc\u001b[39m\u001b[39m'\u001b[39m]) \u001b[39mor\u001b[39;00m (images[i]\u001b[39m.\u001b[39mfind(\u001b[39m'\u001b[39m\u001b[39mimg\u001b[39m\u001b[39m'\u001b[39m)[\u001b[39m'\u001b[39m\u001b[39mdata-src\u001b[39m\u001b[39m'\u001b[39m]) \u001b[39mfor\u001b[39;00m i \u001b[39min\u001b[39;00m \u001b[39mrange\u001b[39m(\u001b[39mlen\u001b[39m(images)) \u001b[39mif\u001b[39;00m images[i]\u001b[39m.\u001b[39;49mfind(\u001b[39m'\u001b[39;49m\u001b[39mimg\u001b[39;49m\u001b[39m'\u001b[39;49m) \u001b[39mnot\u001b[39;49;00m \u001b[39min\u001b[39;49;00m \u001b[39m'\u001b[39;49m\u001b[39msrc\u001b[39;49m\u001b[39m'\u001b[39;49m)\n",
      "\u001b[1;31mTypeError\u001b[0m: 'in <string>' requires string as left operand, not Tag"
     ]
    }
   ],
   "source": [
    "\n",
    "list((images[i].find('img')['src']) or (images[i].find('img')['data-src']) for i in range(len(images)) if images[i].find('img') not in 'src')"
   ]
  },
  {
   "cell_type": "code",
   "execution_count": 69,
   "id": "f596031a",
   "metadata": {},
   "outputs": [
    {
     "data": {
      "text/plain": [
       "<img alt=\"기프트앤돌 대형 카카오 춘식이 캐릭터인형 60cm,기프트앤돌,인형/애착인형, 디자인쇼핑몰 바보사랑\" class=\"rg_i Q4LuWd\" data-ils=\"4\" data-src=\"https://encrypted-tbn0.gstatic.com/images?q=tbn:ANd9GcTT4k5HXNdFyRCAf5_VJCSxu_YLppUGcztWVg&amp;usqp=CAU\" height=\"180\" jsaction=\"rcuQ6b:trigger.M8vzZb;\" jsname=\"Q4LuWd\" width=\"180\"/>"
      ]
     },
     "execution_count": 69,
     "metadata": {},
     "output_type": "execute_result"
    }
   ],
   "source": [
    "images[30].find('img')"
   ]
  },
  {
   "cell_type": "code",
   "execution_count": null,
   "id": "36d5c513",
   "metadata": {},
   "outputs": [],
   "source": []
  },
  {
   "cell_type": "code",
   "execution_count": null,
   "id": "b64a1e41",
   "metadata": {},
   "outputs": [],
   "source": []
  },
  {
   "cell_type": "code",
   "execution_count": null,
   "id": "745f1ff5",
   "metadata": {},
   "outputs": [],
   "source": []
  }
 ],
 "metadata": {
  "kernelspec": {
   "display_name": "Python 3 (ipykernel)",
   "language": "python",
   "name": "python3"
  },
  "language_info": {
   "codemirror_mode": {
    "name": "ipython",
    "version": 3
   },
   "file_extension": ".py",
   "mimetype": "text/x-python",
   "name": "python",
   "nbconvert_exporter": "python",
   "pygments_lexer": "ipython3",
   "version": "3.8.12"
  },
  "vscode": {
   "interpreter": {
    "hash": "57b4c9edc423900f2bef76019b935046b61a0498a93c5c1be06f4cfbd03a15c6"
   }
  }
 },
 "nbformat": 4,
 "nbformat_minor": 5
}
