{
 "cells": [
  {
   "cell_type": "code",
   "execution_count": 1,
   "id": "3db7da8e",
   "metadata": {
    "scrolled": true
   },
   "outputs": [
    {
     "data": {
      "text/plain": [
       "'c:\\\\Users\\\\parks\\\\bigdata_study'"
      ]
     },
     "execution_count": 1,
     "metadata": {},
     "output_type": "execute_result"
    }
   ],
   "source": [
    "import os\n",
    "os.getcwd()"
   ]
  },
  {
   "cell_type": "code",
   "execution_count": 2,
   "id": "b09844a9",
   "metadata": {},
   "outputs": [],
   "source": [
    "import selenium\n",
    "from selenium import webdriver\n",
    "from selenium.webdriver.common.keys import Keys\n",
    "import time\n",
    "import os\n",
    "import requests\n",
    "import urllib.request\n",
    "from bs4 import BeautifulSoup\n",
    "import os\n",
    "from urllib.request import urlretrieve\n",
    "from urllib.request import urlopen"
   ]
  },
  {
   "cell_type": "code",
   "execution_count": 4,
   "id": "9989c95a",
   "metadata": {},
   "outputs": [],
   "source": [
    "from selenium import webdriver \n",
    "from selenium.webdriver.common.keys import Keys\n",
    "import time\n",
    "import os\n",
    "import urllib.request\n",
    "from selenium.webdriver.common.by import By\n",
    "from bs4 import BeautifulSoup\n",
    "from tqdm import tqdm"
   ]
  },
  {
   "cell_type": "code",
   "execution_count": 11,
   "id": "de2a2f6a",
   "metadata": {},
   "outputs": [
    {
     "name": "stderr",
     "output_type": "stream",
     "text": [
      "C:\\Users\\parks\\AppData\\Local\\Temp\\ipykernel_24616\\3003899913.py:14: DeprecationWarning: executable_path has been deprecated, please pass in a Service object\n",
      "  driver = webdriver.Chrome(chromedriver)\n"
     ]
    },
    {
     "name": "stdout",
     "output_type": "stream",
     "text": [
      "춘식이 검색\n",
      "춘식이 스크롤 중 .............\n",
      "춘식이 찾은 이미지 개수: 85\n",
      "1/85 춘식이 다운로드 중....... Download time : 0.004 초\n",
      "춘식이--다운 완료--\n",
      "2/85 춘식이 다운로드 중....... Download time : 0.001 초\n",
      "춘식이--다운 완료--\n",
      "3/85 춘식이 다운로드 중....... Download time : 0.003 초\n",
      "춘식이--다운 완료--\n",
      "4/85 춘식이 다운로드 중....... Download time : 0.002 초\n",
      "춘식이--다운 완료--\n",
      "5/85 춘식이 다운로드 중....... Download time : 0.002 초\n",
      "춘식이--다운 완료--\n",
      "6/85 춘식이 다운로드 중....... Download time : 0.020 초\n",
      "춘식이--다운 완료--\n",
      "7/85 춘식이 다운로드 중....... Download time : 0.001 초\n",
      "춘식이--다운 완료--\n",
      "8/85 춘식이 다운로드 중....... Download time : 0.001 초\n",
      "춘식이--다운 완료--\n",
      "9/85 춘식이 다운로드 중....... Download time : 0.002 초\n",
      "춘식이--다운 완료--\n",
      "10/85 춘식이 다운로드 중....... Download time : 0.001 초\n",
      "춘식이--다운 완료--\n"
     ]
    }
   ],
   "source": [
    "def createFolder(directory):\n",
    "    try:\n",
    "        if not os.path.exists(directory):\n",
    "            os.makedirs(directory)\n",
    "    except OSError:\n",
    "        print ('Error: Creating directory. ' +  directory)\n",
    "\n",
    "        \n",
    "\n",
    "keyword='춘식이' #다운 받을 keyword 입력\n",
    "createFolder('./'+keyword+'_img_download')\n",
    "\n",
    "chromedriver = 'c:/Users/parks/bigdata_study/chromedriver.exe' #자신에 맞는 경로 지정\n",
    "driver = webdriver.Chrome(chromedriver)\n",
    "driver.implicitly_wait(3)\n",
    "\n",
    "print(keyword, '검색')\n",
    "driver.get('https://www.google.co.kr/imghp?hl=ko')\n",
    "path = \"\"\"/html/body/div[1]/div[3]/form/div[1]/div[1]/div[1]/div/div[2]/input\"\"\"\n",
    "Keyword=driver.find_element(By.XPATH,path)\n",
    "Keyword.send_keys(keyword)\n",
    "Keyword.send_keys(Keys.RETURN)\n",
    "# path = \"\"\"/html/body/div[1]/div[3]/form/div[1]/div[1]/div[1]/button\"\"\"\n",
    "# driver.find_element(By.XPATH,path).click()\n",
    "\n",
    "print(keyword+' 스크롤 중 .............')\n",
    "elem = driver.find_element(By.XPATH, '/html/body')\n",
    "\n",
    "for i in range(8): #10번 정도 스크롤 다운\n",
    "    elem.send_keys(Keys.PAGE_DOWN)\n",
    "    time.sleep(0.1)\n",
    "\n",
    "#images = driver.find_elements(By.CLASS_NAME,\"rg_i Q4LuWd\")\n",
    "images = driver.find_elements(By.CSS_SELECTOR, \".rg_i.Q4LuWd\")\n",
    "\n",
    "links = []\n",
    "for image in images:\n",
    "    if image.get_attribute('src')!=None:\n",
    "        links.append(image.get_attribute('src'))\n",
    "\n",
    "print(keyword+' 찾은 이미지 개수:',len(links))\n",
    "time.sleep(2)\n",
    "\n",
    "for k,i in (enumerate(links[:10])): # 10개 정도로 다운받아지는 지 test함. \n",
    "    url = i\n",
    "    start = time.time()\n",
    "    urllib.request.urlretrieve(url,\"./\"+keyword+\"_img_download/\"+keyword+\"_\"+str(k)+\".jpg\")\n",
    "    print(str(k+1)+'/'+str(len(links))+' '+keyword+' 다운로드 중....... Download time : '+str(time.time() - start)[:5]+' 초')\n",
    "    print(keyword+'--다운 완료--')\n",
    "\n",
    "driver.close()\n"
   ]
  }
 ],
 "metadata": {
  "kernelspec": {
   "display_name": "Python 3 (ipykernel)",
   "language": "python",
   "name": "python3"
  },
  "language_info": {
   "codemirror_mode": {
    "name": "ipython",
    "version": 3
   },
   "file_extension": ".py",
   "mimetype": "text/x-python",
   "name": "python",
   "nbconvert_exporter": "python",
   "pygments_lexer": "ipython3",
   "version": "3.8.12"
  },
  "vscode": {
   "interpreter": {
    "hash": "57b4c9edc423900f2bef76019b935046b61a0498a93c5c1be06f4cfbd03a15c6"
   }
  }
 },
 "nbformat": 4,
 "nbformat_minor": 5
}
